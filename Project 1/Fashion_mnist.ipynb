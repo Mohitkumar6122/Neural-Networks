{
 "cells": [
  {
   "cell_type": "code",
   "execution_count": 1,
   "metadata": {},
   "outputs": [],
   "source": [
    "from tensorflow.keras.datasets import fashion_mnist\n",
    "from tensorflow.keras.models import Sequential\n",
    "from tensorflow.keras.layers import Dense\n",
    "from tensorflow.keras.utils import to_categorical"
   ]
  },
  {
   "cell_type": "markdown",
   "metadata": {},
   "source": [
    "### The fashion MNIST dataset is already included inside Keras’ own collection. It is a dataset of ten categories of clothing and accessories, in grayscales."
   ]
  },
  {
   "cell_type": "code",
   "execution_count": 2,
   "metadata": {},
   "outputs": [],
   "source": [
    "(x_train, y_train), (x_test, y_test) = fashion_mnist.load_data()"
   ]
  },
  {
   "cell_type": "markdown",
   "metadata": {},
   "source": [
    "### Our image is 28x28, and therefore is two-dimensional. Because of our perceptron only able to read one-dimensional data, let’s flatten them."
   ]
  },
  {
   "cell_type": "code",
   "execution_count": 3,
   "metadata": {},
   "outputs": [],
   "source": [
    "x_train = x_train.reshape(x_train.shape[0], -1) / 255.0\n",
    "x_test = x_test.reshape(x_test.shape[0], -1) / 255.0\n",
    "y_train = to_categorical(y_train)\n",
    "y_test = to_categorical(y_test)"
   ]
  },
  {
   "cell_type": "code",
   "execution_count": 4,
   "metadata": {},
   "outputs": [],
   "source": [
    "model = Sequential()\n",
    "model.add(Dense(10, input_dim=784, activation='relu'))\n",
    "model.add(Dense(10, activation='softmax'))\n",
    "model.compile(loss='categorical_crossentropy', optimizer='adam', metrics=['accuracy'])"
   ]
  },
  {
   "cell_type": "code",
   "execution_count": 5,
   "metadata": {},
   "outputs": [
    {
     "name": "stdout",
     "output_type": "stream",
     "text": [
      "Epoch 1/10\n",
      "1688/1688 [==============================] - 4s 2ms/step - loss: 0.6978 - accuracy: 0.7639 - val_loss: 0.4940 - val_accuracy: 0.8285\n",
      "Epoch 2/10\n",
      "1688/1688 [==============================] - 5s 3ms/step - loss: 0.4801 - accuracy: 0.8345 - val_loss: 0.4548 - val_accuracy: 0.8378\n",
      "Epoch 3/10\n",
      "1688/1688 [==============================] - 4s 2ms/step - loss: 0.4467 - accuracy: 0.8464 - val_loss: 0.4375 - val_accuracy: 0.8420\n",
      "Epoch 4/10\n",
      "1688/1688 [==============================] - 3s 2ms/step - loss: 0.4290 - accuracy: 0.8519 - val_loss: 0.4758 - val_accuracy: 0.8323\n",
      "Epoch 5/10\n",
      "1688/1688 [==============================] - 3s 2ms/step - loss: 0.4149 - accuracy: 0.8560 - val_loss: 0.4152 - val_accuracy: 0.8548\n",
      "Epoch 6/10\n",
      "1688/1688 [==============================] - 3s 2ms/step - loss: 0.4046 - accuracy: 0.8593 - val_loss: 0.4082 - val_accuracy: 0.8557\n",
      "Epoch 7/10\n",
      "1688/1688 [==============================] - 3s 2ms/step - loss: 0.3989 - accuracy: 0.8610 - val_loss: 0.4239 - val_accuracy: 0.8497\n",
      "Epoch 8/10\n",
      "1688/1688 [==============================] - 3s 2ms/step - loss: 0.3927 - accuracy: 0.8638 - val_loss: 0.4052 - val_accuracy: 0.8583\n",
      "Epoch 9/10\n",
      "1688/1688 [==============================] - 3s 2ms/step - loss: 0.3890 - accuracy: 0.8646 - val_loss: 0.4194 - val_accuracy: 0.8522\n",
      "Epoch 10/10\n",
      "1688/1688 [==============================] - 3s 2ms/step - loss: 0.3825 - accuracy: 0.8664 - val_loss: 0.4159 - val_accuracy: 0.8573\n"
     ]
    },
    {
     "data": {
      "text/plain": [
       "<tensorflow.python.keras.callbacks.History at 0x7f1cb7eb3d30>"
      ]
     },
     "execution_count": 5,
     "metadata": {},
     "output_type": "execute_result"
    }
   ],
   "source": [
    "model.fit(x_train, y_train, epochs=10, validation_split=0.1)"
   ]
  },
  {
   "cell_type": "markdown",
   "metadata": {},
   "source": [
    "### Pretty good. We got 85% accuracy on validation data."
   ]
  },
  {
   "cell_type": "code",
   "execution_count": 6,
   "metadata": {},
   "outputs": [
    {
     "name": "stdout",
     "output_type": "stream",
     "text": [
      "313/313 [==============================] - 0s 1ms/step - loss: 0.4570 - accuracy: 0.8430\n",
      "Accuracy of our model1 is :  84.29999947547913 %\n"
     ]
    }
   ],
   "source": [
    "_, test_acc = model.evaluate(x_test, y_test)\n",
    "print(\"Accuracy of our model1 is : \" , 100 * test_acc, \"%\")"
   ]
  },
  {
   "cell_type": "markdown",
   "metadata": {},
   "source": [
    "### 84% accuracy on test data. Good enough for this simple architecture."
   ]
  },
  {
   "cell_type": "markdown",
   "metadata": {},
   "source": [
    "## --------------------------------------------------------------------------------------------\n",
    "## We can increase accuracy by making the network wider"
   ]
  },
  {
   "cell_type": "code",
   "execution_count": 7,
   "metadata": {},
   "outputs": [
    {
     "name": "stdout",
     "output_type": "stream",
     "text": [
      "Epoch 1/10\n",
      "1688/1688 [==============================] - 5s 3ms/step - loss: 0.5352 - accuracy: 0.8149 - val_loss: 0.4326 - val_accuracy: 0.8445\n",
      "Epoch 2/10\n",
      "1688/1688 [==============================] - 4s 3ms/step - loss: 0.4006 - accuracy: 0.8581 - val_loss: 0.4163 - val_accuracy: 0.8498\n",
      "Epoch 3/10\n",
      "1688/1688 [==============================] - 4s 2ms/step - loss: 0.3670 - accuracy: 0.8687 - val_loss: 0.3856 - val_accuracy: 0.8657\n",
      "Epoch 4/10\n",
      "1688/1688 [==============================] - 5s 3ms/step - loss: 0.3413 - accuracy: 0.8776 - val_loss: 0.3697 - val_accuracy: 0.8685\n",
      "Epoch 5/10\n",
      "1688/1688 [==============================] - 4s 3ms/step - loss: 0.3235 - accuracy: 0.8836 - val_loss: 0.3503 - val_accuracy: 0.8757\n",
      "Epoch 6/10\n",
      "1688/1688 [==============================] - 6s 4ms/step - loss: 0.3127 - accuracy: 0.8870 - val_loss: 0.3378 - val_accuracy: 0.8772\n",
      "Epoch 7/10\n",
      "1688/1688 [==============================] - 6s 3ms/step - loss: 0.2985 - accuracy: 0.8913 - val_loss: 0.3319 - val_accuracy: 0.8795\n",
      "Epoch 8/10\n",
      "1688/1688 [==============================] - 5s 3ms/step - loss: 0.2908 - accuracy: 0.8930 - val_loss: 0.3301 - val_accuracy: 0.8805\n",
      "Epoch 9/10\n",
      "1688/1688 [==============================] - 4s 3ms/step - loss: 0.2829 - accuracy: 0.8963 - val_loss: 0.3307 - val_accuracy: 0.8835\n",
      "Epoch 10/10\n",
      "1688/1688 [==============================] - 4s 3ms/step - loss: 0.2750 - accuracy: 0.8985 - val_loss: 0.3283 - val_accuracy: 0.8842\n"
     ]
    },
    {
     "data": {
      "text/plain": [
       "<tensorflow.python.keras.callbacks.History at 0x7f1c8c493370>"
      ]
     },
     "execution_count": 7,
     "metadata": {},
     "output_type": "execute_result"
    }
   ],
   "source": [
    "# WE HAVE INCREASED NUMBER OF HIDDEN LAYER CELLS FROM 10 to 50.\n",
    "model2 = Sequential()\n",
    "model2.add(Dense(50, input_dim=784, activation='relu'))\n",
    "model2.add(Dense(10, activation='softmax'))\n",
    "model2.compile(loss='categorical_crossentropy', optimizer='adam', metrics=['accuracy'])\n",
    "model2.fit(x_train, y_train, epochs=10, validation_split=0.1)"
   ]
  },
  {
   "cell_type": "markdown",
   "metadata": {},
   "source": [
    "### 88% Accuracy on Validation Data"
   ]
  },
  {
   "cell_type": "code",
   "execution_count": 8,
   "metadata": {},
   "outputs": [
    {
     "name": "stdout",
     "output_type": "stream",
     "text": [
      "313/313 [==============================] - 0s 2ms/step - loss: 0.3510 - accuracy: 0.8786\n",
      "Accuracy of our model2 is :  87.8600001335144 %\n"
     ]
    }
   ],
   "source": [
    "_, test_acc = model2.evaluate(x_test, y_test)\n",
    "print(\"Accuracy of our model2 is : \" , 100 * test_acc, \"%\")"
   ]
  },
  {
   "cell_type": "markdown",
   "metadata": {},
   "source": [
    "## 87% Accuracy on Test Data"
   ]
  },
  {
   "cell_type": "markdown",
   "metadata": {},
   "source": [
    "## ----------------------------------------------------------------------------------------------------------------\n",
    "## We can further increase accuracy by adding one more layer to our neural network"
   ]
  },
  {
   "cell_type": "code",
   "execution_count": 9,
   "metadata": {},
   "outputs": [],
   "source": [
    "model3 = Sequential()\n",
    "model3.add(Dense(50, input_dim = 784, activation = 'relu'))\n",
    "model3.add(Dense(50, activation = 'relu'))\n",
    "model3.add(Dense(10, activation = 'softmax'))\n",
    "model3.compile(loss = 'categorical_crossentropy', optimizer = 'adam', metrics = ['accuracy'])"
   ]
  },
  {
   "cell_type": "code",
   "execution_count": 10,
   "metadata": {},
   "outputs": [
    {
     "name": "stdout",
     "output_type": "stream",
     "text": [
      "Epoch 1/10\n",
      "1688/1688 [==============================] - 5s 3ms/step - loss: 0.5359 - accuracy: 0.8105 - val_loss: 0.4022 - val_accuracy: 0.8535\n",
      "Epoch 2/10\n",
      "1688/1688 [==============================] - 6s 4ms/step - loss: 0.3894 - accuracy: 0.8600 - val_loss: 0.3843 - val_accuracy: 0.8590\n",
      "Epoch 3/10\n",
      "1688/1688 [==============================] - 5s 3ms/step - loss: 0.3520 - accuracy: 0.8723 - val_loss: 0.3545 - val_accuracy: 0.8725\n",
      "Epoch 4/10\n",
      "1688/1688 [==============================] - 6s 3ms/step - loss: 0.3281 - accuracy: 0.8804 - val_loss: 0.3472 - val_accuracy: 0.8795\n",
      "Epoch 5/10\n",
      "1688/1688 [==============================] - 5s 3ms/step - loss: 0.3112 - accuracy: 0.8865 - val_loss: 0.3321 - val_accuracy: 0.8808\n",
      "Epoch 6/10\n",
      "1688/1688 [==============================] - 5s 3ms/step - loss: 0.2980 - accuracy: 0.8891 - val_loss: 0.3448 - val_accuracy: 0.8785\n",
      "Epoch 7/10\n",
      "1688/1688 [==============================] - 5s 3ms/step - loss: 0.2870 - accuracy: 0.8931 - val_loss: 0.3265 - val_accuracy: 0.8818\n",
      "Epoch 8/10\n",
      "1688/1688 [==============================] - 5s 3ms/step - loss: 0.2778 - accuracy: 0.8979 - val_loss: 0.3278 - val_accuracy: 0.8833\n",
      "Epoch 9/10\n",
      "1688/1688 [==============================] - 5s 3ms/step - loss: 0.2672 - accuracy: 0.8998 - val_loss: 0.3360 - val_accuracy: 0.8820\n",
      "Epoch 10/10\n",
      "1688/1688 [==============================] - 5s 3ms/step - loss: 0.2609 - accuracy: 0.9016 - val_loss: 0.3392 - val_accuracy: 0.8805\n"
     ]
    },
    {
     "data": {
      "text/plain": [
       "<tensorflow.python.keras.callbacks.History at 0x7f1c8c3411c0>"
      ]
     },
     "execution_count": 10,
     "metadata": {},
     "output_type": "execute_result"
    }
   ],
   "source": [
    "model3.fit(x_train, y_train, epochs = 10, validation_split = 0.1)"
   ]
  },
  {
   "cell_type": "code",
   "execution_count": 11,
   "metadata": {},
   "outputs": [
    {
     "name": "stdout",
     "output_type": "stream",
     "text": [
      "313/313 [==============================] - 1s 2ms/step - loss: 0.3537 - accuracy: 0.8772\n",
      "Accuracy of our model3 is :  87.72000074386597 %\n"
     ]
    }
   ],
   "source": [
    "_, test_acc = model3.evaluate(x_test, y_test)\n",
    "print(\"Accuracy of our model3 is : \" , 100 * test_acc, \"%\")"
   ]
  },
  {
   "cell_type": "markdown",
   "metadata": {},
   "source": [
    "## So Accuracy of model 3 is : 87.72 % "
   ]
  }
 ],
 "metadata": {
  "kernelspec": {
   "display_name": "Python 3",
   "language": "python",
   "name": "python3"
  },
  "language_info": {
   "codemirror_mode": {
    "name": "ipython",
    "version": 3
   },
   "file_extension": ".py",
   "mimetype": "text/x-python",
   "name": "python",
   "nbconvert_exporter": "python",
   "pygments_lexer": "ipython3",
   "version": "3.8.2"
  }
 },
 "nbformat": 4,
 "nbformat_minor": 4
}
